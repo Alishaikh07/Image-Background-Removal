{
 "cells": [
  {
   "cell_type": "code",
   "execution_count": 7,
   "id": "52256fb1",
   "metadata": {},
   "outputs": [],
   "source": [
    "from PIL import Image\n",
    "\n",
    "# Open the image\n",
    "image = Image.open(\"C:\\\\Users\\\\alish\\\\Downloads\\\\man3.jpg\")\n",
    "\n",
    "# Define the desired size\n",
    "new_width = 250\n",
    "new_height = 250\n",
    "\n",
    "# Resize the image\n",
    "r1 = image.resize((new_width, new_height))\n",
    "\n",
    "# Save the resized image\n",
    "r1.save(\"output27.jpg\")\n"
   ]
  },
  {
   "cell_type": "code",
   "execution_count": null,
   "id": "fe6de2ef",
   "metadata": {},
   "outputs": [],
   "source": []
  }
 ],
 "metadata": {
  "kernelspec": {
   "display_name": "Python 3 (ipykernel)",
   "language": "python",
   "name": "python3"
  },
  "language_info": {
   "codemirror_mode": {
    "name": "ipython",
    "version": 3
   },
   "file_extension": ".py",
   "mimetype": "text/x-python",
   "name": "python",
   "nbconvert_exporter": "python",
   "pygments_lexer": "ipython3",
   "version": "3.10.9"
  }
 },
 "nbformat": 4,
 "nbformat_minor": 5
}
